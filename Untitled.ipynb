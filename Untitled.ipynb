{
 "cells": [
  {
   "cell_type": "raw",
   "id": "ad57997e-c5cd-4958-825d-3514860c8f60",
   "metadata": {},
   "source": [
    "print(\"hello flag\")"
   ]
  },
  {
   "cell_type": "code",
   "execution_count": 1,
   "id": "143b9dcb-0533-4f9d-b568-b6e0b791fed5",
   "metadata": {},
   "outputs": [
    {
     "name": "stdout",
     "output_type": "stream",
     "text": [
      "hello flag\n"
     ]
    }
   ],
   "source": [
    "print(\"hello flag\")"
   ]
  },
  {
   "cell_type": "code",
   "execution_count": null,
   "id": "5deae6a8-b9f7-4f29-b62d-e6cfc1cb95f5",
   "metadata": {},
   "outputs": [],
   "source": []
  }
 ],
 "metadata": {
  "kernelspec": {
   "display_name": "Python 3 (ipykernel)",
   "language": "python",
   "name": "python3"
  },
  "language_info": {
   "codemirror_mode": {
    "name": "ipython",
    "version": 3
   },
   "file_extension": ".py",
   "mimetype": "text/x-python",
   "name": "python",
   "nbconvert_exporter": "python",
   "pygments_lexer": "ipython3",
   "version": "3.12.2"
  }
 },
 "nbformat": 4,
 "nbformat_minor": 5
}
